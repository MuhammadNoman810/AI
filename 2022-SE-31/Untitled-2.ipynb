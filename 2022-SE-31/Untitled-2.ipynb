{
 "cells": [
  {
   "cell_type": "markdown",
   "metadata": {},
   "source": []
  },
  {
   "cell_type": "code",
   "execution_count": 1,
   "metadata": {},
   "outputs": [
    {
     "name": "stdout",
     "output_type": "stream",
     "text": [
      "Local IP: 192.168.137.160\n"
     ]
    }
   ],
   "source": [
    "import socket\n",
    "def getip():\n",
    "    with socket.socket(socket.AF_INET, socket.SOCK_DGRAM) as m:\n",
    "        try:\n",
    "            m.connect(('8.8.8.8',80))\n",
    "            ip=m.getsockname()[0]\n",
    "        except:\n",
    "            ip='127.0.0.1'\n",
    "    return ip\n",
    "print(f\"Local IP: {getip()}\")\n",
    "    \n",
    "\n"
   ]
  },
  {
   "cell_type": "code",
   "execution_count": 2,
   "metadata": {},
   "outputs": [
    {
     "name": "stdout",
     "output_type": "stream",
     "text": [
      "Server is running on 127.0.0.1:65432, waiting for connections...\n"
     ]
    }
   ],
   "source": [
    "import socket\n",
    "import threading # Import threading to enable handling multiple clients at the same time\n",
    "# Function to handle individual client connections\n",
    "def handle_client(client_socket, client_address):\n",
    "    print(f\"Connected to {client_address}\")\n",
    "    while True:\n",
    "        try:\n",
    "            data = client_socket.recv(1024) # Receive data from the client\n",
    "            if not data:\n",
    "                print(f\"Connection closed by {client_address}\")\n",
    "                break\n",
    "            print(f\"Received from {client_address}: {data.decode()}\")\n",
    "            client_socket.sendall(b\"Server received:\" + data) # Acknowledge message\n",
    "        except ConnectionResetError:\n",
    "            print(f\"Connection lost with {client_address}\")\n",
    "            break\n",
    "    client_socket.close() # Close the client socket\n",
    "# Function to retrieve the local IP address of the machine running the server\n",
    "def get_local_ip():\n",
    "    with socket.socket(socket.AF_INET, socket.SOCK_DGRAM) as s:\n",
    "        try:\n",
    "            s.connect('8.8.8.8', 80) # Connect to Google&#39;s DNS to get the correct interface IP\n",
    "            ip = s.getsockname()[0] # Get the local IP address\n",
    "        except Exception:\n",
    "            ip = '127.0.0.1' # Fallback to localhost if something goes wrong\n",
    "    return ip\n",
    "# Main server function to start the server and handle client connections\n",
    "def start_server():\n",
    "    server_socket = socket.socket(socket.AF_INET, socket.SOCK_STREAM) # Create a TCP socket\n",
    "    host_ip = get_local_ip() # Get the local IP address\n",
    "    server_address = (host_ip, 65432) # Server will listen on this IP and port\n",
    "    server_socket.bind(server_address) # Bind the socket to the IP and port\n",
    "    server_socket.listen(5) # Listen for incoming connections (up to 5 in the queue)\n",
    "    print(f\"Server is running on {host_ip}:{65432}, waiting for connections...\")\n",
    "    while True:\n",
    "        client_socket, client_address = server_socket.accept() # Accept a new client connection\n",
    "        client_thread = threading.Thread(target=handle_client, args=(client_socket, client_address)) \n",
    "#Create a new thread for the client\n",
    "\n",
    "    client_thread.start() # Start the thread to handle the client\n",
    "start_server() # Start the server"
   ]
  },
  {
   "cell_type": "code",
   "execution_count": 1,
   "metadata": {},
   "outputs": [
    {
     "name": "stdout",
     "output_type": "stream",
     "text": [
      "Connected to server at 127.0.0.1:65432\n"
     ]
    },
    {
     "ename": "KeyboardInterrupt",
     "evalue": "Interrupted by user",
     "output_type": "error",
     "traceback": [
      "\u001b[1;31m---------------------------------------------------------------------------\u001b[0m",
      "\u001b[1;31mKeyboardInterrupt\u001b[0m                         Traceback (most recent call last)",
      "Cell \u001b[1;32mIn[1], line 20\u001b[0m\n\u001b[0;32m     18\u001b[0m     \u001b[39mfinally\u001b[39;00m:\n\u001b[0;32m     19\u001b[0m         client_socket\u001b[39m.\u001b[39mclose() \u001b[39m# Close the socket when done\u001b[39;00m\n\u001b[1;32m---> 20\u001b[0m start_client() \u001b[39m# Start the client\u001b[39;00m\n",
      "Cell \u001b[1;32mIn[1], line 9\u001b[0m, in \u001b[0;36mstart_client\u001b[1;34m()\u001b[0m\n\u001b[0;32m      7\u001b[0m \u001b[39mprint\u001b[39m(\u001b[39mf\u001b[39m\u001b[39m\"\u001b[39m\u001b[39mConnected to server at \u001b[39m\u001b[39m{\u001b[39;00mserver_address[\u001b[39m0\u001b[39m]\u001b[39m}\u001b[39;00m\u001b[39m:\u001b[39m\u001b[39m{\u001b[39;00mserver_address[\u001b[39m1\u001b[39m]\u001b[39m}\u001b[39;00m\u001b[39m\"\u001b[39m)\n\u001b[0;32m      8\u001b[0m \u001b[39mwhile\u001b[39;00m \u001b[39mTrue\u001b[39;00m:\n\u001b[1;32m----> 9\u001b[0m     message \u001b[39m=\u001b[39m \u001b[39minput\u001b[39;49m(\u001b[39m\"\u001b[39;49m\u001b[39mYou (Client): \u001b[39;49m\u001b[39m\"\u001b[39;49m) \u001b[39m# Get input from the user\u001b[39;00m\n\u001b[0;32m     10\u001b[0m     \u001b[39mif\u001b[39;00m message\u001b[39m.\u001b[39mlower() \u001b[39m==\u001b[39m \u001b[39m\"\u001b[39m\u001b[39mexit\u001b[39m\u001b[39m\"\u001b[39m:\n\u001b[0;32m     11\u001b[0m         \u001b[39mprint\u001b[39m(\u001b[39m\"\u001b[39m\u001b[39mClosing connection...\u001b[39m\u001b[39m\"\u001b[39m)\n",
      "File \u001b[1;32mc:\\Users\\noman\\AppData\\Local\\Programs\\Python\\Python312\\Lib\\site-packages\\ipykernel\\kernelbase.py:1282\u001b[0m, in \u001b[0;36mKernel.raw_input\u001b[1;34m(self, prompt)\u001b[0m\n\u001b[0;32m   1280\u001b[0m     msg \u001b[39m=\u001b[39m \u001b[39m\"\u001b[39m\u001b[39mraw_input was called, but this frontend does not support input requests.\u001b[39m\u001b[39m\"\u001b[39m\n\u001b[0;32m   1281\u001b[0m     \u001b[39mraise\u001b[39;00m StdinNotImplementedError(msg)\n\u001b[1;32m-> 1282\u001b[0m \u001b[39mreturn\u001b[39;00m \u001b[39mself\u001b[39;49m\u001b[39m.\u001b[39;49m_input_request(\n\u001b[0;32m   1283\u001b[0m     \u001b[39mstr\u001b[39;49m(prompt),\n\u001b[0;32m   1284\u001b[0m     \u001b[39mself\u001b[39;49m\u001b[39m.\u001b[39;49m_parent_ident[\u001b[39m\"\u001b[39;49m\u001b[39mshell\u001b[39;49m\u001b[39m\"\u001b[39;49m],\n\u001b[0;32m   1285\u001b[0m     \u001b[39mself\u001b[39;49m\u001b[39m.\u001b[39;49mget_parent(\u001b[39m\"\u001b[39;49m\u001b[39mshell\u001b[39;49m\u001b[39m\"\u001b[39;49m),\n\u001b[0;32m   1286\u001b[0m     password\u001b[39m=\u001b[39;49m\u001b[39mFalse\u001b[39;49;00m,\n\u001b[0;32m   1287\u001b[0m )\n",
      "File \u001b[1;32mc:\\Users\\noman\\AppData\\Local\\Programs\\Python\\Python312\\Lib\\site-packages\\ipykernel\\kernelbase.py:1325\u001b[0m, in \u001b[0;36mKernel._input_request\u001b[1;34m(self, prompt, ident, parent, password)\u001b[0m\n\u001b[0;32m   1322\u001b[0m \u001b[39mexcept\u001b[39;00m \u001b[39mKeyboardInterrupt\u001b[39;00m:\n\u001b[0;32m   1323\u001b[0m     \u001b[39m# re-raise KeyboardInterrupt, to truncate traceback\u001b[39;00m\n\u001b[0;32m   1324\u001b[0m     msg \u001b[39m=\u001b[39m \u001b[39m\"\u001b[39m\u001b[39mInterrupted by user\u001b[39m\u001b[39m\"\u001b[39m\n\u001b[1;32m-> 1325\u001b[0m     \u001b[39mraise\u001b[39;00m \u001b[39mKeyboardInterrupt\u001b[39;00m(msg) \u001b[39mfrom\u001b[39;00m \u001b[39mNone\u001b[39;00m\n\u001b[0;32m   1326\u001b[0m \u001b[39mexcept\u001b[39;00m \u001b[39mException\u001b[39;00m:\n\u001b[0;32m   1327\u001b[0m     \u001b[39mself\u001b[39m\u001b[39m.\u001b[39mlog\u001b[39m.\u001b[39mwarning(\u001b[39m\"\u001b[39m\u001b[39mInvalid Message:\u001b[39m\u001b[39m\"\u001b[39m, exc_info\u001b[39m=\u001b[39m\u001b[39mTrue\u001b[39;00m)\n",
      "\u001b[1;31mKeyboardInterrupt\u001b[0m: Interrupted by user"
     ]
    }
   ],
   "source": [
    "import socket\n",
    "def start_client():\n",
    "    client_socket = socket.socket(socket.AF_INET, socket.SOCK_STREAM) # Create a TCP client socket\n",
    "    server_address = ('127.0.0.1', 65432) # Define server IP and port (replace with actual server IP for remote testing)\n",
    "    try:\n",
    "        client_socket.connect(server_address) # Connect to the server\n",
    "        print(f\"Connected to server at {server_address[0]}:{server_address[1]}\")\n",
    "        while True:\n",
    "            message = input(\"You (Client): \") # Get input from the user\n",
    "            if message.lower() == \"exit\":\n",
    "                print(\"Closing connection...\")\n",
    "                break\n",
    "        client_socket.sendall(message.encode()) # Send the message to the server\n",
    "        data = client_socket.recv(1024) # Receive response from the server\n",
    "        print(f\"Server: {data.decode()}\") # Print server&#39;s response\n",
    "    except ConnectionRefusedError:\n",
    "        print(\"Failed to connect to the server. Is the server running?\")\n",
    "    finally:\n",
    "        client_socket.close() # Close the socket when done\n",
    "if _name_ == '_main_':\n",
    "    start_client() # Start the client"
   ]
  }
 ],
 "metadata": {
  "kernelspec": {
   "display_name": "Python 3",
   "language": "python",
   "name": "python3"
  },
  "language_info": {
   "codemirror_mode": {
    "name": "ipython",
    "version": 3
   },
   "file_extension": ".py",
   "mimetype": "text/x-python",
   "name": "python",
   "nbconvert_exporter": "python",
   "pygments_lexer": "ipython3",
   "version": "3.12.6"
  },
  "orig_nbformat": 4,
  "vscode": {
   "interpreter": {
    "hash": "9302a85130a52a554572e30e764581de1167cb9fe869c3490181fcaa7ba0abf0"
   }
  }
 },
 "nbformat": 4,
 "nbformat_minor": 2
}
