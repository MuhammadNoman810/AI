{
 "cells": [
  {
   "cell_type": "code",
   "execution_count": 1,
   "metadata": {},
   "outputs": [],
   "source": [
    "class Stack:\n",
    "    def __init__(self):\n",
    "        self.stack = []\n",
    "\n",
    "    def push(self, item):\n",
    "        self.stack.append(item)\n",
    "\n",
    "    def pop(self):\n",
    "        if not self.empty():\n",
    "            return self.stack.pop()\n",
    "        return None\n",
    "\n",
    "    def top(self):\n",
    "        if not self.empty():\n",
    "            return self.stack[-1]\n",
    "        return None\n",
    "\n",
    "    def size(self):\n",
    "        return len(self.stack)\n",
    "\n",
    "    def empty(self):\n",
    "        return len(self.stack) == 0\n",
    "\n",
    "\n"
   ]
  },
  {
   "cell_type": "code",
   "execution_count": 2,
   "metadata": {},
   "outputs": [
    {
     "name": "stdout",
     "output_type": "stream",
     "text": [
      "20\n",
      "20\n",
      "1\n",
      "False\n"
     ]
    }
   ],
   "source": [
    "s = Stack()\n",
    "s.push(10)\n",
    "s.push(20)\n",
    "print(s.top())    \n",
    "print(s.pop())  \n",
    "print(s.size())   \n",
    "print(s.empty()) "
   ]
  },
  {
   "cell_type": "code",
   "execution_count": 3,
   "metadata": {},
   "outputs": [],
   "source": [
    "class Queue:\n",
    "    def __init__(self):\n",
    "        self.queue = []\n",
    "\n",
    "    def enqueue(self, item):\n",
    "        self.queue.append(item)\n",
    "\n",
    "    def dequeue(self):\n",
    "        if not self.empty():\n",
    "            return self.queue.pop(0)\n",
    "        return None\n",
    "\n",
    "    def front(self):\n",
    "        if not self.empty():\n",
    "            return self.queue[0]\n",
    "        return None\n",
    "\n",
    "    def rear(self):\n",
    "        if not self.empty():\n",
    "            return self.queue[-1]\n",
    "        return None\n",
    "\n",
    "    def size(self):\n",
    "        return len(self.queue)\n",
    "\n",
    "    def empty(self):\n",
    "        return len(self.queue) == 0\n",
    "\n",
    "\n"
   ]
  },
  {
   "cell_type": "code",
   "execution_count": 4,
   "metadata": {},
   "outputs": [
    {
     "name": "stdout",
     "output_type": "stream",
     "text": [
      "10\n",
      "10\n",
      "1\n",
      "False\n"
     ]
    }
   ],
   "source": [
    "q = Queue()\n",
    "q.enqueue(10)\n",
    "q.enqueue(20)\n",
    "print(q.front())  \n",
    "print(q.dequeue()) \n",
    "print(q.size()) \n",
    "print(q.empty())  "
   ]
  },
  {
   "cell_type": "code",
   "execution_count": 36,
   "metadata": {},
   "outputs": [],
   "source": [
    "class PriorityQueue:\n",
    "    def __init__(self):\n",
    "        self.priority_queue = []\n",
    "\n",
    "    def enqueue(self, item, priority):\n",
    "        new_item = (item, priority)\n",
    "        if self.empty():\n",
    "            self.priority_queue.append(new_item)\n",
    "        else:\n",
    "            inserted = False\n",
    "            for i in range(len(self.priority_queue)):\n",
    "                if priority < self.priority_queue[i][1]:\n",
    "                    self.priority_queue.insert(i, new_item)\n",
    "                    inserted = True\n",
    "                    break\n",
    "            if not inserted:\n",
    "                self.priority_queue.append(new_item)\n",
    "\n",
    "    def dequeue(self):\n",
    "        if not self.empty():\n",
    "            return self.priority_queue.pop(0)[0]\n",
    "        return None\n",
    "\n",
    "    def empty(self):\n",
    "        return len(self.priority_queue) == 0\n",
    "\n",
    "\n"
   ]
  },
  {
   "cell_type": "code",
   "execution_count": 37,
   "metadata": {},
   "outputs": [
    {
     "name": "stdout",
     "output_type": "stream",
     "text": [
      "Z\n",
      "C\n",
      "B\n"
     ]
    }
   ],
   "source": [
    "pq = PriorityQueue()\n",
    "pq.enqueue('C', 2)\n",
    "pq.enqueue('B', 3)\n",
    "pq.enqueue('Z', 1)\n",
    "print(pq.dequeue())  \n",
    "print(pq.dequeue())  \n",
    "print(pq.dequeue())  "
   ]
  },
  {
   "cell_type": "code",
   "execution_count": 13,
   "metadata": {},
   "outputs": [],
   "source": [
    "def binary_search(arr, check):\n",
    "    low = 0\n",
    "    high = len(arr) - 1\n",
    "\n",
    "    while low <= high:\n",
    "        mid = (low + high) // 2\n",
    "\n",
    "        if arr[mid] == check:\n",
    "            return mid\n",
    "        elif arr[mid] < check:\n",
    "            low = mid + 1\n",
    "        else:\n",
    "            high = mid - 1\n",
    "\n",
    "    return -1\n",
    "\n",
    "\n"
   ]
  },
  {
   "cell_type": "code",
   "execution_count": 14,
   "metadata": {},
   "outputs": [
    {
     "name": "stdout",
     "output_type": "stream",
     "text": [
      "3\n"
     ]
    }
   ],
   "source": [
    "arr = [1, 3, 5, 7, 9, 11]\n",
    "check = 7\n",
    "result = binary_search(arr, check)\n",
    "print(result)  "
   ]
  }
 ],
 "metadata": {
  "kernelspec": {
   "display_name": "Python 3",
   "language": "python",
   "name": "python3"
  },
  "language_info": {
   "codemirror_mode": {
    "name": "ipython",
    "version": 3
   },
   "file_extension": ".py",
   "mimetype": "text/x-python",
   "name": "python",
   "nbconvert_exporter": "python",
   "pygments_lexer": "ipython3",
   "version": "3.12.6"
  },
  "orig_nbformat": 4,
  "vscode": {
   "interpreter": {
    "hash": "9302a85130a52a554572e30e764581de1167cb9fe869c3490181fcaa7ba0abf0"
   }
  }
 },
 "nbformat": 4,
 "nbformat_minor": 2
}
